{
 "cells": [
  {
   "attachments": {
    "LogoCCT.png": {
     "image/png": "[encoded data removed]"
    }
   },
   "cell_type": "markdown",
   "id": "6d7ac7dd",
   "metadata": {},
   "source": [
    "![LogoCCT.png](attachment:LogoCCT.png)"
   ]
  },
  {
   "cell_type": "markdown",
   "id": "b537d283",
   "metadata": {},
   "source": [
    "<p> <h2> Module: </h2>Machine Learning for AI.</p>\n",
    "<p> <h3> Lecturer: </h3>David McQuaid</p>\n",
    "<p> <h3> Student: </h3>Luiza Cavalcanti Albuquerque Brayner (2020309)</p>"
   ]
  },
  {
   "cell_type": "markdown",
   "id": "f487ed1b",
   "metadata": {},
   "source": [
    "<h3> Learning Outcomes: </h3>\n",
    "<p> - Understand how to use text analysis for AI with the insclusion of labelled and unlabelled data. </p>\n",
    "<p> - Understand Neural Networks and how this relates to the type of machine learning directed, a proposed A.I. implementation for a chosen domain. </p>\n",
    "<h3> Neural Networks and Semantic Analysis </h3>"
   ]
  },
  {
   "attachments": {},
   "cell_type": "markdown",
   "id": "39d5ae43",
   "metadata": {},
   "source": [
    "<h3> 1. Neural Networks</h3>\n",
    "<b> Data preparation  </b>\n",
    "<p> - Take the data stored file “BankRecords.csv”, available and process the data into a DataFrame. </p>\n",
    "<p> - Check and handle any missing values. </p>\n",
    "<p> - Encode categorical variables, converting into numerical format (such as: 'Securities Account', and 'Personal Loan'. </p>\n",
    "<p> - Feature Scaling, by Standatdizing or nomalizing the numerical features. </p>"
   ]
  },
  {
   "cell_type": "code",
   "execution_count": 1,
   "id": "7272d9a0",
   "metadata": {},
   "outputs": [
    {
     "name": "stdout",
     "output_type": "stream",
     "text": [
      "   ID  Age  Experience(Years)  Income(Thousands's)  Sort Code  Family  \\\n",
      "0   1   25                  1                   49      91107       4   \n",
      "1   2   45                 19                   34      90089       3   \n",
      "2   3   39                 15                   11      94720       1   \n",
      "3   4   35                  9                  100      94112       1   \n",
      "4   5   35                  8                   45      91330       4   \n",
      "\n",
      "   Credit Score Education  Mortgage(Thousands's) Personal Loan  \\\n",
      "0           1.6   Diploma                      0            No   \n",
      "1           1.5   Diploma                      0            No   \n",
      "2           1.0   Diploma                      0            No   \n",
      "3           2.7    Degree                      0            No   \n",
      "4           1.0    Degree                      0            No   \n",
      "\n",
      "  Securities Account CD Account Online Banking CreditCard  \n",
      "0                Yes         No             No         No  \n",
      "1                Yes         No             No         No  \n",
      "2                 No         No             No         No  \n",
      "3                 No         No             No         No  \n",
      "4                 No         No             No        Yes  \n",
      "ID                       0\n",
      "Age                      0\n",
      "Experience(Years)        0\n",
      "Income(Thousands's)      0\n",
      "Sort Code                0\n",
      "Family                   0\n",
      "Credit Score             0\n",
      "Education                0\n",
      "Mortgage(Thousands's)    0\n",
      "Personal Loan            0\n",
      "Securities Account       0\n",
      "CD Account               0\n",
      "Online Banking           0\n",
      "CreditCard               0\n",
      "dtype: int64\n"
     ]
    }
   ],
   "source": [
    "import pandas as pd\n",
    "import numpy as np\n",
    "from sklearn.model_selection import train_test_split\n",
    "from sklearn.preprocessing import StandardScaler, LabelEncoder\n",
    "\n",
    "# Load the dataset\n",
    "df = pd.read_csv('BankRecords.csv')\n",
    "\n",
    "# Display the first few rows\n",
    "print(df.head())\n",
    "\n",
    "# Check for missing values\n",
    "print(df.isnull().sum())\n",
    "\n",
    "# Encode categorical variables\n",
    "label_encoders = {}\n",
    "categorical_columns = ['Personal Loan', 'Securities Account', 'CD Account', 'Online Banking', 'CreditCard', 'Education']\n",
    "for col in categorical_columns:\n",
    "    le = LabelEncoder()\n",
    "    df[col] = le.fit_transform(df[col])\n",
    "    label_encoders[col] = le\n",
    "\n",
    "# Standardize numerical features\n",
    "scaler = StandardScaler()\n",
    "numerical_columns = ['Age', 'Experience(Years)', 'Sort Code', 'Credit Score', 'Mortgage(Thousands\\'s)']\n",
    "df[numerical_columns] = scaler.fit_transform(df[numerical_columns])\n",
    "\n",
    "# Split the data into features and target variable\n",
    "X = df.drop(columns=['Income(Thousands\\'s)', 'ID'])\n",
    "y = df['Income(Thousands\\'s)']\n",
    "\n",
    "# Split into training and testing datasets\n",
    "X_train, X_test, y_train, y_test = train_test_split(X, y, test_size=0.2, random_state=42)\n"
   ]
  },
  {
   "cell_type": "markdown",
   "id": "4e81bf13",
   "metadata": {},
   "source": [
    "<h3> 2. Semantic Analysis </h3>"
   ]
  },
  {
   "cell_type": "code",
   "execution_count": null,
   "id": "d99a590d",
   "metadata": {},
   "outputs": [],
   "source": []
  }
 ],
 "metadata": {
  "kernelspec": {
   "display_name": "Python 3 (ipykernel)",
   "language": "python",
   "name": "python3"
  },
  "language_info": {
   "codemirror_mode": {
    "name": "ipython",
    "version": 3
   },
   "file_extension": ".py",
   "mimetype": "text/x-python",
   "name": "python",
   "nbconvert_exporter": "python",
   "pygments_lexer": "ipython3",
   "version": "3.9.7"
  }
 },
 "nbformat": 4,
 "nbformat_minor": 5
}
